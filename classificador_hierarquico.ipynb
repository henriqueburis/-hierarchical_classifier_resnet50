{
  "nbformat": 4,
  "nbformat_minor": 0,
  "metadata": {
    "colab": {
      "provenance": []
    },
    "kernelspec": {
      "name": "python3",
      "display_name": "Python 3"
    },
    "language_info": {
      "name": "python"
    },
    "accelerator": "GPU",
    "gpuClass": "standard"
  },
  "cells": [
    {
      "cell_type": "markdown",
      "source": [
        "##### bibiotecas#######"
      ],
      "metadata": {
        "id": "2I-73D8PIUI7"
      }
    },
    {
      "cell_type": "code",
      "execution_count": 1,
      "metadata": {
        "id": "ly83NGRyH7Zk"
      },
      "outputs": [],
      "source": [
        "\n",
        "import torch\n",
        "import torch.nn as nn\n",
        "import torch.nn.functional as F\n",
        "import torch.optim as optim\n",
        "from torch.utils.data import TensorDataset, DataLoader\n",
        "import torchvision\n",
        "import torchvision.transforms as transforms\n",
        "import torchvision.utils as utils\n",
        "import os\n",
        "import numpy as np\n",
        "#from datetime import datetime\n",
        "#from PIL import Image\n",
        "#from sklearn.model_selection import train_test_split\n",
        "from sklearn.metrics import confusion_matrix\n",
        "#from sklearn.ensemble import RandomForestClassifier\n",
        "from sklearn import metrics\n",
        "import seaborn as sns\n",
        "#from sklearn.manifold import TSNE\n",
        "#import warnings\n",
        "#import plotly.express as px\n",
        "from tqdm import tqdm"
      ]
    },
    {
      "cell_type": "markdown",
      "source": [
        "##### database loader #######"
      ],
      "metadata": {
        "id": "vjcTlkkytMBl"
      }
    },
    {
      "cell_type": "code",
      "source": [
        "label_NSC = ['nuvem','Solo_exposto','Cultivo'] # NSC Nuvem, Solo_exposto e Cultivo\n",
        "label_NNoN = ['nuvem','noNuvem'] # noNuvem = Solo_exposto e Cultivo\n",
        "label_SEC = ['Solo_exposto','Cultivo']\n",
        "\n",
        "#tensor das bandas 3000, 128, 128, 3 # no caso dos dados reais nao vai usar a labels\n",
        "train_tensor= np.load('/content/drive/MyDrive/Data-bayer/imagem_sem_mascara/TALHAO_130_sem_norm_sem_mask_talhao_images.npy')\n",
        "#Label para test\n",
        "train_labels = np.load('/content/drive/MyDrive/Data-bayer/imagem_sem_mascara/TALHAO_130_sem_norm_sem_mask_talhao_nome.npy')\n",
        "\n",
        "n_classe = 2 # classe de cada modelo que foi treainado\n",
        "\n",
        "print(train_tensor.shape)\n",
        "\n",
        "t, w, h, c = train_tensor.shape\n",
        "dataTensor= train_tensor.reshape(t,c,w,h) # reshape 128, 128, 3 => 3, 128, 128 troca da posição da banda\n",
        "\n",
        "print(dataTensor.shape)\n"
      ],
      "metadata": {
        "id": "85PrKp6-IehF",
        "colab": {
          "base_uri": "https://localhost:8080/"
        },
        "outputId": "4fa28221-2850-4ec4-c6b3-ac8166ff0d23"
      },
      "execution_count": 3,
      "outputs": [
        {
          "output_type": "stream",
          "name": "stdout",
          "text": [
            "(126, 128, 128, 3)\n",
            "(126, 3, 128, 128)\n"
          ]
        }
      ]
    },
    {
      "cell_type": "code",
      "source": [
        "print(train_labels)"
      ],
      "metadata": {
        "id": "TRII_fWBUABi"
      },
      "execution_count": null,
      "outputs": []
    },
    {
      "cell_type": "code",
      "source": [
        "tensor_x_train = torch.Tensor(dataTensor) #convertendo para tensor do pytorch \n",
        "tensor_y_train = torch.Tensor(train_labels)\n",
        "\n",
        "#tensor_x_train_n = normalize(tensor_x_train)\n",
        "\n",
        "#tensor_x_test = torch.Tensor(teste_data) \n",
        "#tensor_y_test = torch.Tensor(teste_label)\n",
        "\n",
        "#tensor_x_test_n = normalize(tensor_x_test)\n",
        "\n",
        "\n",
        "test_dataset = TensorDataset(tensor_x_train,tensor_y_train) # create your datset\n",
        "#test_dataset = TensorDataset(tensor_x_test,tensor_y_test) # create your datset\n",
        "\n",
        "#train_loader = DataLoader(train_dataset,batch_size=batch_size, shuffle=False, num_workers=0)\n",
        "test_loader = DataLoader(test_dataset,batch_size=1, shuffle=True, num_workers=0) "
      ],
      "metadata": {
        "id": "RZAb5zgnAfBp"
      },
      "execution_count": null,
      "outputs": []
    },
    {
      "cell_type": "markdown",
      "source": [
        "#####Model#######"
      ],
      "metadata": {
        "id": "DN4guzhIIRxz"
      }
    },
    {
      "cell_type": "code",
      "source": [
        "# Não alterar alterar a estrutura do modelo\n",
        "print('==> Building model..')\n",
        "device = 'cuda' if torch.cuda.is_available() else 'cpu'\n",
        "\n",
        "net = torchvision.models.resnet50()\n",
        "modules = list(net.children())[:-1]\n",
        "modules.append(nn.Flatten())\n",
        "modules.append(nn.Linear(net.fc.in_features,n_classe))\n",
        "net = nn.Sequential(*modules)\n",
        "model_nNon = net.to(device)\n",
        "\n",
        "print(device)\n",
        "\n",
        "model_nNon.load_state_dict(torch.load(\"/content/drive/MyDrive/Data-bayer/imagem_sem_mascara/model/Seed_15-02-2023_13-55-15_Renset50_model.pt\",map_location=device)) # carregar o modelo treinado \"CNN\"\n",
        "\n",
        "\n",
        "\n"
      ],
      "metadata": {
        "colab": {
          "base_uri": "https://localhost:8080/"
        },
        "id": "Dmg7-Bv9INwW",
        "outputId": "14f13019-b15f-43ff-87f6-68bffbb3ebea"
      },
      "execution_count": null,
      "outputs": [
        {
          "output_type": "stream",
          "name": "stdout",
          "text": [
            "==> Building model..\n",
            "cuda\n"
          ]
        },
        {
          "output_type": "execute_result",
          "data": {
            "text/plain": [
              "<All keys matched successfully>"
            ]
          },
          "metadata": {},
          "execution_count": 5
        }
      ]
    },
    {
      "cell_type": "code",
      "source": [
        "# Não alterar a estrutura do do modelo\n",
        "print('==> Building model..')\n",
        "\n",
        "net_ = torchvision.models.resnet50()\n",
        "modules_ = list(net_.children())[:-1]\n",
        "modules_.append(nn.Flatten())\n",
        "modules_.append(nn.Linear(net_.fc.in_features,n_classe))\n",
        "net_ = nn.Sequential(*modules_)\n",
        "\n",
        "model_SeCultivo = net_.to(device)\n",
        "\n",
        "print(device)\n",
        "\n",
        "model_SeCultivo.load_state_dict(torch.load(\"/content/drive/MyDrive/Data-bayer/imagem_sem_mascara/model/Seed_15-02-2023_14-50-45_Renset50_model.pt\",map_location=device)) \n",
        "\n"
      ],
      "metadata": {
        "colab": {
          "base_uri": "https://localhost:8080/"
        },
        "id": "wtDTBjTOOuq1",
        "outputId": "a025fd30-548e-43f9-ab96-490a01abe28b"
      },
      "execution_count": null,
      "outputs": [
        {
          "output_type": "stream",
          "name": "stdout",
          "text": [
            "==> Building model..\n",
            "cuda\n"
          ]
        },
        {
          "output_type": "execute_result",
          "data": {
            "text/plain": [
              "<All keys matched successfully>"
            ]
          },
          "metadata": {},
          "execution_count": 8
        }
      ]
    },
    {
      "cell_type": "markdown",
      "source": [
        "##### Bloco de inference######"
      ],
      "metadata": {
        "id": "evG3QItqtEaE"
      }
    },
    {
      "cell_type": "code",
      "source": [
        "# remover apenas a linha label.append(int(targets.data.cpu().numpy())) e  label = []\n",
        "#targets será usado como nome do arquivo a interar e o input é o tensor de cada npz\n",
        "\n",
        "\"\"\"\n",
        "        Parameters: \n",
        "        ---------------\n",
        "            data_loader: dataset dos tensores com label ou nome do arquivo.\n",
        "\n",
        "        Return:\n",
        "         ---------------\n",
        "            predicted para 3 classes nuvem, SE and cultivo.\n",
        "\"\"\"\n",
        "\n",
        "def Inference_(data_loader):\n",
        "\n",
        "    model_nNon.eval()\n",
        "    model_SeCultivo.eval()\n",
        "    pred = []\n",
        "    label = []\n",
        "    with torch.no_grad():\n",
        "        for batch_idx, (inputs, targets) in enumerate(tqdm(data_loader), 0):\n",
        "        #for batch_idx, (inputs, targets) in enumerate(data_loader):\n",
        "            inputs, targets = inputs.to(device), targets.to(device)\n",
        "            outputs_nNon = model_nNon(inputs)\n",
        "            outputs_SeCultivo = model_SeCultivo(inputs)\n",
        "\n",
        "            label.append(int(targets.data.cpu().numpy()))\n",
        "\n",
        "            _nNon, predictednNon = outputs_nNon.max(1)\n",
        "            _Sec, predictedSec = outputs_SeCultivo.max(1)\n",
        "\n",
        "            if((predictednNon.data.cpu().numpy()[0]) == label_NNoN.index('nuvem')):\n",
        "              pred.append(predictednNon.data.cpu().numpy()[0])\n",
        "\n",
        "            else:\n",
        "\n",
        "              if((predictedSec.data.cpu().numpy()[0]) == label_SEC.index('Solo_exposto')):\n",
        "                #print('SE')\n",
        "                pred.append((predictedSec.data.cpu().numpy()[0])+1)\n",
        "\n",
        "              elif((predictedSec.data.cpu().numpy()[0]) == label_SEC.index('Cultivo')):\n",
        "                pred.append((predictedSec.data.cpu().numpy()[0])+1)         \n",
        "\n",
        "        return pred, label"
      ],
      "metadata": {
        "id": "O49-_hVFPuYI"
      },
      "execution_count": null,
      "outputs": []
    },
    {
      "cell_type": "code",
      "source": [
        "pred, label = Inference_(test_loader)"
      ],
      "metadata": {
        "colab": {
          "base_uri": "https://localhost:8080/"
        },
        "id": "_ORszPWBQB13",
        "outputId": "d38df4c9-92e3-4096-e2f5-5a8571d45629"
      },
      "execution_count": null,
      "outputs": [
        {
          "output_type": "stream",
          "name": "stderr",
          "text": [
            "100%|██████████| 3000/3000 [01:01<00:00, 48.70it/s]\n"
          ]
        }
      ]
    },
    {
      "cell_type": "code",
      "source": [
        "print(np.unique(pred))"
      ],
      "metadata": {
        "colab": {
          "base_uri": "https://localhost:8080/"
        },
        "id": "D3fuvJ63QNUo",
        "outputId": "f8eb81dc-6745-4783-97ea-b887a373daec"
      },
      "execution_count": null,
      "outputs": [
        {
          "output_type": "stream",
          "name": "stdout",
          "text": [
            "[0 1 2]\n"
          ]
        }
      ]
    },
    {
      "cell_type": "code",
      "source": [
        "confusion = confusion_matrix(label, pred)\n",
        "print(confusion)\n",
        "\n",
        "print (\"Accuracy = \", metrics.accuracy_score(label, pred))\n",
        "print (\"Recall = \", metrics.recall_score(label, pred, average = None))\n",
        "print (\"Precision = \", metrics.precision_score(label, pred, average = None))\n",
        "print (\"F1 = \", metrics.f1_score(label, pred, average = None))"
      ],
      "metadata": {
        "colab": {
          "base_uri": "https://localhost:8080/"
        },
        "id": "wvWfI4xpWTGH",
        "outputId": "0544222c-03b2-403c-b4b8-33c54278bc77"
      },
      "execution_count": null,
      "outputs": [
        {
          "output_type": "stream",
          "name": "stdout",
          "text": [
            "[[985   8   7]\n",
            " [ 15 973  12]\n",
            " [ 64  25 911]]\n",
            "Accuracy =  0.9563333333333334\n",
            "Recall =  [0.985 0.973 0.911]\n",
            "Precision =  [0.92575188 0.96719682 0.97956989]\n",
            "F1 =  [0.95445736 0.97008973 0.94404145]\n"
          ]
        }
      ]
    },
    {
      "cell_type": "code",
      "source": [
        "sns.heatmap(confusion, annot=True,  xticklabels=label_NSC, yticklabels=label_NSC)"
      ],
      "metadata": {
        "colab": {
          "base_uri": "https://localhost:8080/",
          "height": 284
        },
        "id": "Np9-6_oXYcTx",
        "outputId": "2f71f2a6-c2f8-4695-c7d0-a120e7470c57"
      },
      "execution_count": null,
      "outputs": [
        {
          "output_type": "execute_result",
          "data": {
            "text/plain": [
              "<matplotlib.axes._subplots.AxesSubplot at 0x7f146cebe8b0>"
            ]
          },
          "metadata": {},
          "execution_count": 17
        },
        {
          "output_type": "display_data",
          "data": {
            "text/plain": [
              "<Figure size 432x288 with 2 Axes>"
            ],
            "image/png": "[encoded data removed]"
          },
          "metadata": {
            "needs_background": "light"
          }
        }
      ]
    }
  ]
}